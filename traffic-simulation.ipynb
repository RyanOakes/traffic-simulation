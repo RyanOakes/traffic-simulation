{
 "cells": [
  {
   "cell_type": "code",
   "execution_count": 1,
   "metadata": {
    "collapsed": true
   },
   "outputs": [],
   "source": [
    "import numpy as np\n",
    "import random"
   ]
  },
  {
   "cell_type": "code",
   "execution_count": 2,
   "metadata": {
    "collapsed": true
   },
   "outputs": [],
   "source": [
    "#120 kilometers per hour = 74.5 miles per house\n",
    "#2 meters per second = 4.4 mph\n",
    "\n",
    "class Car():\n",
    "    \n",
    "    def __init__(self, starting_position, preceding_car):\n",
    "        \n",
    "        colors_list = (\"green\", \"pink\", \"black\", \"blue\", \"yellow\", \"white\", \"magenta\")\n",
    "        self.color = random.choice(colors_list)\n",
    "        self.position = starting_position\n",
    "        self.speed = 0\n",
    "        self.accelerate = 2\n",
    "        self.decelerate = 2\n",
    "        self.max_speed = 1000/30\n",
    "        \n",
    "        \n",
    "    def __str__(self):\n",
    "        return str(\"Your starting position is\".format(self.position))\n",
    "    \n",
    "    \n",
    "    def distance_check_of_car_in_front():\n",
    "       \n",
    "        \n",
    "    # self.position and self.preceding_car.position\n",
    "        pass\n",
    "        \n",
    "    \n",
    "    def check_if_car_can_move():\n",
    "        if self.speed >= 1000/30:\n",
    "            return \"accelerate\"\n",
    "    \n",
    "    \n",
    "    def move_the_car(check_if_car_can_move):\n",
    "        return self.position + 2\n",
    "            \n",
    "        \n",
    "            \n",
    "        \n",
    "    \n",
    "    def calculate_ideal_speed():\n",
    "        pass\n",
    "        \"\"\"Drivers want at least a number of meters equal to their\n",
    "        speed in meters/second between them and the next car.\"\"\"\n",
    "        \n",
    "        \n",
    "    \n",
    "\n",
    "    \n",
    "class TrafficSim():\n",
    "    \n",
    "    def __init__(self):\n",
    "        \n",
    "        self.cars = []\n",
    "        preceding_car = None\n",
    "        \n",
    "        \"\"\"Creates the cars\"\"\"\n",
    "        for x in range(30):\n",
    "            car = Car(1000 - (x*33), preceding_car)\n",
    "            car.id = x\n",
    "            car.front_bumper = 1000 - (x*33)\n",
    "            car.rear_bumper = 99 - (x*33)\n",
    "            preceding_car = car\n",
    "            car.original_start = 1000 - (x*33)\n",
    "            \n",
    "            #road.cars[29].original_start\n",
    "            \n",
    "            self.cars.append(car)\n",
    "            \n",
    "            #link between car 0 and car 30!?\n",
    "    \n",
    "    def run_da_test(self, cars_list):\n",
    "        \n",
    "        while sim_timer < 60:\n",
    "            \n",
    "            sim_timer = 0\n",
    "            \n",
    "            #Check speed\n",
    "            #Check distance\n",
    "            #Act\n",
    "            \n",
    "            \n",
    "            \n",
    "            sim_timer += 1\n",
    "            \n",
    "    "
   ]
  },
  {
   "cell_type": "code",
   "execution_count": 3,
   "metadata": {
    "collapsed": true
   },
   "outputs": [],
   "source": [
    "road = TrafficSim()"
   ]
  },
  {
   "cell_type": "code",
   "execution_count": 6,
   "metadata": {
    "collapsed": false
   },
   "outputs": [
    {
     "data": {
      "text/plain": [
       "43"
      ]
     },
     "execution_count": 6,
     "metadata": {},
     "output_type": "execute_result"
    }
   ],
   "source": [
    "road.cars[29].original_start"
   ]
  },
  {
   "cell_type": "code",
   "execution_count": 7,
   "metadata": {
    "collapsed": false
   },
   "outputs": [
    {
     "name": "stdout",
     "output_type": "stream",
     "text": [
      "-33\n"
     ]
    }
   ],
   "source": [
    "print(road.cars[4])"
   ]
  },
  {
   "cell_type": "code",
   "execution_count": null,
   "metadata": {
    "collapsed": false
   },
   "outputs": [],
   "source": []
  },
  {
   "cell_type": "code",
   "execution_count": null,
   "metadata": {
    "collapsed": true
   },
   "outputs": [],
   "source": []
  }
 ],
 "metadata": {
  "kernelspec": {
   "display_name": "Python 3",
   "language": "python",
   "name": "python3"
  },
  "language_info": {
   "codemirror_mode": {
    "name": "ipython",
    "version": 3
   },
   "file_extension": ".py",
   "mimetype": "text/x-python",
   "name": "python",
   "nbconvert_exporter": "python",
   "pygments_lexer": "ipython3",
   "version": "3.5.1"
  }
 },
 "nbformat": 4,
 "nbformat_minor": 0
}
